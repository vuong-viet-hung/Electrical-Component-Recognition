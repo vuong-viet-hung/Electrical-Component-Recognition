{
  "nbformat": 4,
  "nbformat_minor": 0,
  "metadata": {
    "colab": {
      "name": "Electronic Component Recognition Using PCA + SVM.ipynb",
      "provenance": [],
      "authorship_tag": "ABX9TyNKQWzA/UiazvHNRfv+5+XR",
      "include_colab_link": true
    },
    "kernelspec": {
      "name": "python3",
      "display_name": "Python 3"
    },
    "language_info": {
      "name": "python"
    }
  },
  "cells": [
    {
      "cell_type": "markdown",
      "metadata": {
        "id": "view-in-github",
        "colab_type": "text"
      },
      "source": [
        "<a href=\"https://colab.research.google.com/github/vuong-viet-hung/Electrical-Component-Recognition/blob/main/PCA%20%2B%20SVM/Electronic_Component_Recognition_Using_PCA_%2B_SVM.ipynb\" target=\"_parent\"><img src=\"https://colab.research.google.com/assets/colab-badge.svg\" alt=\"Open In Colab\"/></a>"
      ]
    },
    {
      "cell_type": "markdown",
      "source": [
        "# Electronic Component Recognition Using PCA + SVM"
      ],
      "metadata": {
        "id": "tpVSAjXAL3bv"
      }
    },
    {
      "cell_type": "code",
      "execution_count": null,
      "metadata": {
        "colab": {
          "base_uri": "https://localhost:8080/"
        },
        "id": "O1MdbG2--g0F",
        "outputId": "f15ef9c4-6c37-4fcf-c6db-0217f2d8f5d9"
      },
      "outputs": [
        {
          "output_type": "stream",
          "name": "stdout",
          "text": [
            "Drive already mounted at /content/drive; to attempt to forcibly remount, call drive.mount(\"/content/drive\", force_remount=True).\n"
          ]
        }
      ],
      "source": [
        "from google.colab import drive\n",
        "drive.mount('/content/drive')"
      ]
    },
    {
      "cell_type": "code",
      "source": [
        "%cd '/content/drive/MyDrive/Mandevices/Machine Learning/Electronic Component Recognition/'"
      ],
      "metadata": {
        "colab": {
          "base_uri": "https://localhost:8080/"
        },
        "id": "MQqOlyYQ_1DR",
        "outputId": "3737e975-c255-4895-eec7-decdd34a79a5"
      },
      "execution_count": null,
      "outputs": [
        {
          "output_type": "stream",
          "name": "stdout",
          "text": [
            "/content/drive/MyDrive/Mandevices/Machine Learning/Electronic Component Recognition\n"
          ]
        }
      ]
    },
    {
      "cell_type": "code",
      "source": [
        "from pathlib import Path\n",
        "import cv2 as cv\n",
        "import matplotlib.pyplot as plt\n",
        "import numpy as np\n",
        "from sklearn.decomposition import PCA\n",
        "from sklearn.metrics import classification_report, ConfusionMatrixDisplay\n",
        "from sklearn.model_selection import train_test_split, RandomizedSearchCV\n",
        "from sklearn.preprocessing import StandardScaler\n",
        "from sklearn.svm import SVC\n",
        "\n",
        "%matplotlib inline"
      ],
      "metadata": {
        "id": "0O8u3EOp_K9Z"
      },
      "execution_count": null,
      "outputs": []
    },
    {
      "cell_type": "code",
      "source": [
        "DATASET_PATH = Path('Dataset/')\n",
        "IMAGE_SIZE = (28, 28)\n",
        "IMAGE_ARRAY_SIZE = 28 * 28 * 3\n",
        "N_COMPONENTS = 150"
      ],
      "metadata": {
        "id": "HmiGcCbc_vbr"
      },
      "execution_count": null,
      "outputs": []
    },
    {
      "cell_type": "markdown",
      "source": [
        "## I. Prepare the dataset"
      ],
      "metadata": {
        "id": "1EO_l7gvMAG7"
      }
    },
    {
      "cell_type": "markdown",
      "source": [
        "### 1. Create arrays of images and corresponding labels"
      ],
      "metadata": {
        "id": "uq1vRcroMzyD"
      }
    },
    {
      "cell_type": "code",
      "source": [
        "num_classes = len([subdir for subdir in DATASET_PATH.iterdir()])\n",
        "classes = range(num_classes)"
      ],
      "metadata": {
        "id": "lAlaKigDBXZI"
      },
      "execution_count": null,
      "outputs": []
    },
    {
      "cell_type": "code",
      "source": [
        "X = np.empty((0, IMAGE_ARRAY_SIZE))\n",
        "y = np.empty(0)"
      ],
      "metadata": {
        "id": "jGJZW0IiDqur"
      },
      "execution_count": null,
      "outputs": []
    },
    {
      "cell_type": "code",
      "source": [
        "for subdir, current_label in zip(DATASET_PATH.iterdir(), classes):\n",
        "    for image_path in subdir.iterdir():\n",
        "        image = cv.imread(str(image_path))\n",
        "        image = cv.resize(image, IMAGE_SIZE)\n",
        "        image = np.ravel(image)\n",
        "        image = np.expand_dims(image, axis=0)\n",
        "        X = np.r_[X, image]\n",
        "        y = np.r_[y, np.array([current_label])]"
      ],
      "metadata": {
        "id": "oNH7-tleCLLn"
      },
      "execution_count": null,
      "outputs": []
    },
    {
      "cell_type": "code",
      "source": [
        "print(f'Found {X.shape[0]} images belonging to {num_classes} classes.')"
      ],
      "metadata": {
        "colab": {
          "base_uri": "https://localhost:8080/"
        },
        "id": "3QL25BTgG1Ej",
        "outputId": "602610ec-9035-47d1-ebe2-4b284163c28b"
      },
      "execution_count": null,
      "outputs": [
        {
          "output_type": "stream",
          "name": "stdout",
          "text": [
            "Found 11106 images belonging to 12 classes.\n"
          ]
        }
      ]
    },
    {
      "cell_type": "markdown",
      "source": [
        "### 2. Mean normalizing images' feature"
      ],
      "metadata": {
        "id": "jnc1knngNCrm"
      }
    },
    {
      "cell_type": "code",
      "source": [
        "scaler = StandardScaler()\n",
        "X = scaler.fit_transform(X)"
      ],
      "metadata": {
        "id": "posJcU80Mjid"
      },
      "execution_count": null,
      "outputs": []
    },
    {
      "cell_type": "markdown",
      "source": [
        "### 3. Split the dataset into train set and test set"
      ],
      "metadata": {
        "id": "ihpccPXGV2ii"
      }
    },
    {
      "cell_type": "code",
      "source": [
        "X_train, X_test, y_train, y_test = train_test_split(X, y, test_size=0.2)"
      ],
      "metadata": {
        "id": "HUTdTCWGJi3y"
      },
      "execution_count": null,
      "outputs": []
    },
    {
      "cell_type": "markdown",
      "source": [
        "## II. Compute PCA on the image dataset"
      ],
      "metadata": {
        "id": "7kkWDIbhMGQ1"
      }
    },
    {
      "cell_type": "code",
      "source": [
        "pca = PCA(n_components=N_COMPONENTS).fit(X_train)"
      ],
      "metadata": {
        "id": "AwA-BFDWLyBD"
      },
      "execution_count": null,
      "outputs": []
    },
    {
      "cell_type": "code",
      "source": [
        "X_train = pca.transform(X_train)\n",
        "X_test = pca.transform(X_test)"
      ],
      "metadata": {
        "id": "v_bOdB98TVoD"
      },
      "execution_count": null,
      "outputs": []
    },
    {
      "cell_type": "markdown",
      "source": [
        "## III. Train the SVM model"
      ],
      "metadata": {
        "id": "rVlI0ou3Th7j"
      }
    },
    {
      "cell_type": "code",
      "source": [
        "param_grid = {\n",
        "    'C': [1e0, 1e1, 1e2, 1e3, 1e4],\n",
        "    'gamma': [1e0, 1e-1, 1e-2, 1e-3, 1e-4]\n",
        "}"
      ],
      "metadata": {
        "id": "z5ndkTWWTvc0"
      },
      "execution_count": null,
      "outputs": []
    },
    {
      "cell_type": "code",
      "source": [
        "clf = RandomizedSearchCV(\n",
        "    SVC(kernel='rbf'), param_grid, n_iter=10\n",
        ")"
      ],
      "metadata": {
        "id": "PcOMl7wRUgCO"
      },
      "execution_count": null,
      "outputs": []
    },
    {
      "cell_type": "code",
      "source": [
        "clf = clf.fit(X_train, y_train)"
      ],
      "metadata": {
        "id": "pzaTScV_X8zW"
      },
      "execution_count": null,
      "outputs": []
    },
    {
      "cell_type": "code",
      "source": [
        "clf.best_estimator_"
      ],
      "metadata": {
        "colab": {
          "base_uri": "https://localhost:8080/"
        },
        "id": "GusZvWGqXmcU",
        "outputId": "f836381a-b409-40b8-dcc3-b4738090268d"
      },
      "execution_count": null,
      "outputs": [
        {
          "output_type": "execute_result",
          "data": {
            "text/plain": [
              "SVC(C=10.0, gamma=0.001)"
            ]
          },
          "metadata": {},
          "execution_count": 23
        }
      ]
    },
    {
      "cell_type": "markdown",
      "source": [
        "## IV. Evaluate the model"
      ],
      "metadata": {
        "id": "cBektfe-cdET"
      }
    },
    {
      "cell_type": "code",
      "source": [
        "y_pred = clf.predict(X_test)"
      ],
      "metadata": {
        "id": "8G0IgEaKcgxR"
      },
      "execution_count": null,
      "outputs": []
    },
    {
      "cell_type": "code",
      "source": [
        "print(classification_report(y_test, y_pred))"
      ],
      "metadata": {
        "colab": {
          "base_uri": "https://localhost:8080/"
        },
        "id": "qLi5t4NtcpcV",
        "outputId": "5300cf57-4f7e-43a0-f0b3-101baa6b6dd5"
      },
      "execution_count": null,
      "outputs": [
        {
          "output_type": "stream",
          "name": "stdout",
          "text": [
            "              precision    recall  f1-score   support\n",
            "\n",
            "         0.0       0.99      0.99      0.99      1144\n",
            "         1.0       1.00      1.00      1.00       106\n",
            "         2.0       0.95      0.94      0.95        88\n",
            "         3.0       1.00      1.00      1.00        96\n",
            "         4.0       0.97      0.99      0.98       104\n",
            "         5.0       0.97      0.98      0.98       100\n",
            "         6.0       1.00      1.00      1.00        92\n",
            "         7.0       1.00      0.98      0.99        95\n",
            "         8.0       1.00      1.00      1.00        97\n",
            "         9.0       0.99      1.00      0.99        78\n",
            "        10.0       0.98      0.96      0.97       113\n",
            "        11.0       1.00      1.00      1.00       109\n",
            "\n",
            "    accuracy                           0.99      2222\n",
            "   macro avg       0.99      0.99      0.99      2222\n",
            "weighted avg       0.99      0.99      0.99      2222\n",
            "\n"
          ]
        }
      ]
    },
    {
      "cell_type": "code",
      "source": [
        "ConfusionMatrixDisplay.from_estimator(\n",
        "    clf, X_test, y_test\n",
        ")\n",
        "plt.tight_layout\n",
        "plt.show()"
      ],
      "metadata": {
        "colab": {
          "base_uri": "https://localhost:8080/",
          "height": 279
        },
        "id": "y1ifbc2CdIIh",
        "outputId": "a15c761a-d49f-4ca7-8518-e6c97fe3ec21"
      },
      "execution_count": null,
      "outputs": [
        {
          "output_type": "display_data",
          "data": {
            "image/png": "[encoded data removed]",
            "text/plain": [
              "<Figure size 432x288 with 2 Axes>"
            ]
          },
          "metadata": {
            "needs_background": "light"
          }
        }
      ]
    }
  ]
}