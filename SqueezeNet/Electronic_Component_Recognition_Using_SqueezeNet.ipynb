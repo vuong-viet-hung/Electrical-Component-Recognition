{
  "nbformat": 4,
  "nbformat_minor": 0,
  "metadata": {
    "colab": {
      "name": "Electronic Component Recognition Using SqueezeNet.ipynb",
      "provenance": [],
      "collapsed_sections": [],
      "include_colab_link": true
    },
    "kernelspec": {
      "name": "python3",
      "display_name": "Python 3"
    },
    "language_info": {
      "name": "python"
    },
    "accelerator": "GPU"
  },
  "cells": [
    {
      "cell_type": "markdown",
      "metadata": {
        "id": "view-in-github",
        "colab_type": "text"
      },
      "source": [
        "<a href=\"https://colab.research.google.com/github/vuong-viet-hung/Electrical-Component-Recognition/blob/main/SqueezeNet/Electronic_Component_Recognition_Using_SqueezeNet.ipynb\" target=\"_parent\"><img src=\"https://colab.research.google.com/assets/colab-badge.svg\" alt=\"Open In Colab\"/></a>"
      ]
    },
    {
      "cell_type": "markdown",
      "source": [
        "# Electronic Component Recognition Using SqueezeNet"
      ],
      "metadata": {
        "id": "XnKmVjH8sxj7"
      }
    },
    {
      "cell_type": "code",
      "execution_count": null,
      "metadata": {
        "colab": {
          "base_uri": "https://localhost:8080/"
        },
        "id": "_7JBGBCumU47",
        "outputId": "8636d660-f9f0-4287-9fb3-b9990cc73b85"
      },
      "outputs": [
        {
          "output_type": "stream",
          "name": "stdout",
          "text": [
            "Drive already mounted at /content/drive; to attempt to forcibly remount, call drive.mount(\"/content/drive\", force_remount=True).\n"
          ]
        }
      ],
      "source": [
        "from google.colab import drive\n",
        "drive.mount('/content/drive')"
      ]
    },
    {
      "cell_type": "code",
      "source": [
        "%cd \"/content/drive/MyDrive/Mandevices/Machine Learning/Electronic Component Recognition/SqueezeNet\""
      ],
      "metadata": {
        "colab": {
          "base_uri": "https://localhost:8080/"
        },
        "id": "UsKeChWfong7",
        "outputId": "33973e61-a53e-4ba6-d7e3-6b9d561bb350"
      },
      "execution_count": null,
      "outputs": [
        {
          "output_type": "stream",
          "name": "stdout",
          "text": [
            "/content/drive/MyDrive/Mandevices/Machine Learning/Electronic Component Recognition/SqueezeNet\n"
          ]
        }
      ]
    },
    {
      "cell_type": "markdown",
      "source": [
        "## A. Prepare the dataset"
      ],
      "metadata": {
        "id": "f0ZN32OytHPA"
      }
    },
    {
      "cell_type": "code",
      "source": [
        "import shutil\n",
        "from pathlib import Path\n",
        "from collections import defaultdict\n",
        "import numpy as np\n",
        "import tensorflow as tf\n",
        "from tensorflow.keras.layers import Conv2D, Dense, Dropout, GlobalAveragePooling2D, MaxPooling2D, Input "
      ],
      "metadata": {
        "id": "iC_iYxnhxJHD"
      },
      "execution_count": null,
      "outputs": []
    },
    {
      "cell_type": "code",
      "source": [
        "DATASET_PATH = Path('../Dataset/')\n",
        "TRAIN_PATH = Path('../Dataset/Train/')\n",
        "VALID_PATH = Path('../Dataset/Valid/')\n",
        "TEST_PATH = Path('../Dataset/Test/'\n",
        "NUM_CLASSES = 12\n",
        "IMAGE_SIZE = (224, 224)\n",
        "NUM_CHANNELS = 3\n",
        "BATCH_SIZE = 32"
      ],
      "metadata": {
        "id": "J6Bz7tRnk04q"
      },
      "execution_count": null,
      "outputs": []
    },
    {
      "cell_type": "code",
      "source": [
        "train_generator = tf.keras.preprocessing.image.ImageDataGenerator(rescale=1 / 255)\n",
        "valid_generator = tf.keras.preprocessing.image.ImageDataGenerator(rescale=1 / 255)\n",
        "test_generator = tf.keras.preprocessing.image.ImageDataGenerator(rescale=1 / 255)"
      ],
      "metadata": {
        "id": "ZXfCnrl6_GD3"
      },
      "execution_count": null,
      "outputs": []
    },
    {
      "cell_type": "code",
      "source": [
        "train_loader = train_generator.flow_from_directory(\n",
        "    directory=str(TRAIN_PATH),\n",
        "    target_size=IMAGE_SIZE,\n",
        "    batch_size=BATCH_SIZE,\n",
        "    class_mode='categorical'\n",
        ") \n",
        "\n",
        "valid_loader = valid_generator.flow_from_directory(\n",
        "    directory=str(VALID_PATH),\n",
        "    target_size=IMAGE_SIZE,\n",
        "    batch_size=BATCH_SIZE,\n",
        "    class_mode='categorical',\n",
        ") \n",
        "\n",
        "test_loader = test_generator.flow_from_directory(\n",
        "    directory=str(TEST_PATH),\n",
        "    target_size=IMAGE_SIZE,\n",
        "    batch_size=BATCH_SIZE,\n",
        "    class_mode='categorical',\n",
        ") "
      ],
      "metadata": {
        "colab": {
          "base_uri": "https://localhost:8080/"
        },
        "id": "kQYjyM3C9iuj",
        "outputId": "0fe870e1-1e84-48b1-b585-d54e35008ec4"
      },
      "execution_count": null,
      "outputs": [
        {
          "output_type": "stream",
          "name": "stdout",
          "text": [
            "Found 8884 images belonging to 12 classes.\n",
            "Found 1117 images belonging to 12 classes.\n",
            "Found 1105 images belonging to 12 classes.\n"
          ]
        }
      ]
    },
    {
      "cell_type": "markdown",
      "source": [
        "## B. Build the model"
      ],
      "metadata": {
        "id": "SXBxAcOTXj7h"
      }
    },
    {
      "cell_type": "code",
      "source": [
        "def fire(x, s1x1_squeeze, e1x1_expand, e3x3_expand):\n",
        "    s1x1 = tf.keras.layers.Conv2D(filters=s1x1_squeeze, kernel_size=1, padding='same', activation='relu')(x)\n",
        "    e1x1 = tf.keras.layers.Conv2D(filters=e1x1_expand, kernel_size=1, padding='same', activation='relu')(s1x1)\n",
        "    e3x3 = tf.keras.layers.Conv2D(filters=e3x3_expand, kernel_size=3, padding='same', activation='relu')(s1x1)\n",
        "    return tf.keras.layers.concatenate([e1x1, e3x3])"
      ],
      "metadata": {
        "id": "gbgoKRMfwNSk"
      },
      "execution_count": null,
      "outputs": []
    },
    {
      "cell_type": "code",
      "source": [
        "def Fire(s1x1_squeeze, e1x1_expand, e3x3_expand):\n",
        "    return lambda x: fire(x, s1x1_squeeze, e1x1_expand, e3x3_expand)"
      ],
      "metadata": {
        "id": "iTFFHnQIIOc2"
      },
      "execution_count": null,
      "outputs": []
    },
    {
      "cell_type": "code",
      "source": [
        "input = Input(shape=[*IMAGE_SIZE, NUM_CHANNELS])\n",
        "conv1 = Conv2D(filters=96, kernel_size=7, strides=2, padding='same', activation='relu')(input)\n",
        "maxpool1 = MaxPooling2D(pool_size=3, strides=2)(conv1)\n",
        "fire2 = Fire(16, 64, 64)(maxpool1)\n",
        "fire3 = Fire(16, 64, 64)(fire2)\n",
        "fire4 = Fire(32, 128, 128)(fire3)\n",
        "maxpool4 = MaxPooling2D(pool_size=3, strides=2)(fire4)\n",
        "fire5 = Fire(32, 128, 128)(maxpool4)\n",
        "fire6 = Fire(48, 192, 192)(fire5)\n",
        "fire7 = Fire(48, 192, 192)(fire6)\n",
        "fire8 = Fire(64, 256, 256)(fire7)\n",
        "maxpool8 = MaxPooling2D(pool_size=3, strides=2)(fire8)\n",
        "fire9 = Fire(64, 256, 256)(maxpool8)\n",
        "dropout9 = Dropout(0.5)\n",
        "conv10 = Conv2D(filters=NUM_CLASSES, kernel_size=1, strides=1, padding='same', activation='relu')(fire9)\n",
        "avgpool10 = GlobalAveragePooling2D()(conv10)\n",
        "softmax = Dense(NUM_CLASSES, activation='softmax')(avgpool10)"
      ],
      "metadata": {
        "id": "3oldLgq7Wd6q"
      },
      "execution_count": null,
      "outputs": []
    },
    {
      "cell_type": "code",
      "source": [
        "model = tf.keras.Model(input, softmax)"
      ],
      "metadata": {
        "id": "OAoO2tHPIlLH"
      },
      "execution_count": null,
      "outputs": []
    },
    {
      "cell_type": "code",
      "source": [
        "model.summary()"
      ],
      "metadata": {
        "colab": {
          "base_uri": "https://localhost:8080/"
        },
        "id": "uhoxb5UbInMV",
        "outputId": "12fe796f-22ec-436d-d77a-68cd825b8188"
      },
      "execution_count": null,
      "outputs": [
        {
          "output_type": "stream",
          "name": "stdout",
          "text": [
            "Model: \"model\"\n",
            "__________________________________________________________________________________________________\n",
            " Layer (type)                   Output Shape         Param #     Connected to                     \n",
            "==================================================================================================\n",
            " input_1 (InputLayer)           [(None, 224, 224, 3  0           []                               \n",
            "                                )]                                                                \n",
            "                                                                                                  \n",
            " conv2d (Conv2D)                (None, 112, 112, 96  14208       ['input_1[0][0]']                \n",
            "                                )                                                                 \n",
            "                                                                                                  \n",
            " max_pooling2d (MaxPooling2D)   (None, 55, 55, 96)   0           ['conv2d[0][0]']                 \n",
            "                                                                                                  \n",
            " conv2d_1 (Conv2D)              (None, 55, 55, 16)   1552        ['max_pooling2d[0][0]']          \n",
            "                                                                                                  \n",
            " conv2d_2 (Conv2D)              (None, 55, 55, 64)   1088        ['conv2d_1[0][0]']               \n",
            "                                                                                                  \n",
            " conv2d_3 (Conv2D)              (None, 55, 55, 64)   9280        ['conv2d_1[0][0]']               \n",
            "                                                                                                  \n",
            " concatenate (Concatenate)      (None, 55, 55, 128)  0           ['conv2d_2[0][0]',               \n",
            "                                                                  'conv2d_3[0][0]']               \n",
            "                                                                                                  \n",
            " conv2d_4 (Conv2D)              (None, 55, 55, 16)   2064        ['concatenate[0][0]']            \n",
            "                                                                                                  \n",
            " conv2d_5 (Conv2D)              (None, 55, 55, 64)   1088        ['conv2d_4[0][0]']               \n",
            "                                                                                                  \n",
            " conv2d_6 (Conv2D)              (None, 55, 55, 64)   9280        ['conv2d_4[0][0]']               \n",
            "                                                                                                  \n",
            " concatenate_1 (Concatenate)    (None, 55, 55, 128)  0           ['conv2d_5[0][0]',               \n",
            "                                                                  'conv2d_6[0][0]']               \n",
            "                                                                                                  \n",
            " conv2d_7 (Conv2D)              (None, 55, 55, 32)   4128        ['concatenate_1[0][0]']          \n",
            "                                                                                                  \n",
            " conv2d_8 (Conv2D)              (None, 55, 55, 128)  4224        ['conv2d_7[0][0]']               \n",
            "                                                                                                  \n",
            " conv2d_9 (Conv2D)              (None, 55, 55, 128)  36992       ['conv2d_7[0][0]']               \n",
            "                                                                                                  \n",
            " concatenate_2 (Concatenate)    (None, 55, 55, 256)  0           ['conv2d_8[0][0]',               \n",
            "                                                                  'conv2d_9[0][0]']               \n",
            "                                                                                                  \n",
            " max_pooling2d_1 (MaxPooling2D)  (None, 27, 27, 256)  0          ['concatenate_2[0][0]']          \n",
            "                                                                                                  \n",
            " conv2d_10 (Conv2D)             (None, 27, 27, 32)   8224        ['max_pooling2d_1[0][0]']        \n",
            "                                                                                                  \n",
            " conv2d_11 (Conv2D)             (None, 27, 27, 128)  4224        ['conv2d_10[0][0]']              \n",
            "                                                                                                  \n",
            " conv2d_12 (Conv2D)             (None, 27, 27, 128)  36992       ['conv2d_10[0][0]']              \n",
            "                                                                                                  \n",
            " concatenate_3 (Concatenate)    (None, 27, 27, 256)  0           ['conv2d_11[0][0]',              \n",
            "                                                                  'conv2d_12[0][0]']              \n",
            "                                                                                                  \n",
            " conv2d_13 (Conv2D)             (None, 27, 27, 48)   12336       ['concatenate_3[0][0]']          \n",
            "                                                                                                  \n",
            " conv2d_14 (Conv2D)             (None, 27, 27, 192)  9408        ['conv2d_13[0][0]']              \n",
            "                                                                                                  \n",
            " conv2d_15 (Conv2D)             (None, 27, 27, 192)  83136       ['conv2d_13[0][0]']              \n",
            "                                                                                                  \n",
            " concatenate_4 (Concatenate)    (None, 27, 27, 384)  0           ['conv2d_14[0][0]',              \n",
            "                                                                  'conv2d_15[0][0]']              \n",
            "                                                                                                  \n",
            " conv2d_16 (Conv2D)             (None, 27, 27, 48)   18480       ['concatenate_4[0][0]']          \n",
            "                                                                                                  \n",
            " conv2d_17 (Conv2D)             (None, 27, 27, 192)  9408        ['conv2d_16[0][0]']              \n",
            "                                                                                                  \n",
            " conv2d_18 (Conv2D)             (None, 27, 27, 192)  83136       ['conv2d_16[0][0]']              \n",
            "                                                                                                  \n",
            " concatenate_5 (Concatenate)    (None, 27, 27, 384)  0           ['conv2d_17[0][0]',              \n",
            "                                                                  'conv2d_18[0][0]']              \n",
            "                                                                                                  \n",
            " conv2d_19 (Conv2D)             (None, 27, 27, 64)   24640       ['concatenate_5[0][0]']          \n",
            "                                                                                                  \n",
            " conv2d_20 (Conv2D)             (None, 27, 27, 256)  16640       ['conv2d_19[0][0]']              \n",
            "                                                                                                  \n",
            " conv2d_21 (Conv2D)             (None, 27, 27, 256)  147712      ['conv2d_19[0][0]']              \n",
            "                                                                                                  \n",
            " concatenate_6 (Concatenate)    (None, 27, 27, 512)  0           ['conv2d_20[0][0]',              \n",
            "                                                                  'conv2d_21[0][0]']              \n",
            "                                                                                                  \n",
            " max_pooling2d_2 (MaxPooling2D)  (None, 13, 13, 512)  0          ['concatenate_6[0][0]']          \n",
            "                                                                                                  \n",
            " conv2d_22 (Conv2D)             (None, 13, 13, 64)   32832       ['max_pooling2d_2[0][0]']        \n",
            "                                                                                                  \n",
            " conv2d_23 (Conv2D)             (None, 13, 13, 256)  16640       ['conv2d_22[0][0]']              \n",
            "                                                                                                  \n",
            " conv2d_24 (Conv2D)             (None, 13, 13, 256)  147712      ['conv2d_22[0][0]']              \n",
            "                                                                                                  \n",
            " concatenate_7 (Concatenate)    (None, 13, 13, 512)  0           ['conv2d_23[0][0]',              \n",
            "                                                                  'conv2d_24[0][0]']              \n",
            "                                                                                                  \n",
            " conv2d_25 (Conv2D)             (None, 13, 13, 12)   6156        ['concatenate_7[0][0]']          \n",
            "                                                                                                  \n",
            " global_average_pooling2d (Glob  (None, 12)          0           ['conv2d_25[0][0]']              \n",
            " alAveragePooling2D)                                                                              \n",
            "                                                                                                  \n",
            " dense (Dense)                  (None, 12)           156         ['global_average_pooling2d[0][0]'\n",
            "                                                                 ]                                \n",
            "                                                                                                  \n",
            "==================================================================================================\n",
            "Total params: 741,736\n",
            "Trainable params: 741,736\n",
            "Non-trainable params: 0\n",
            "__________________________________________________________________________________________________\n"
          ]
        }
      ]
    },
    {
      "cell_type": "markdown",
      "source": [
        "## C. Train the model"
      ],
      "metadata": {
        "id": "OG33wdzZwdqz"
      }
    },
    {
      "cell_type": "code",
      "source": [
        "model.compile(optimizer='adam', \n",
        "              loss='categorical_crossentropy', \n",
        "              metrics=['accuracy'])"
      ],
      "metadata": {
        "id": "VgdDMP47tC3e"
      },
      "execution_count": null,
      "outputs": []
    },
    {
      "cell_type": "code",
      "source": [
        "callback = tf.keras.callbacks.EarlyStopping(monitor='loss', patience=5)"
      ],
      "metadata": {
        "id": "56UBP7jKxtQ5"
      },
      "execution_count": null,
      "outputs": []
    },
    {
      "cell_type": "code",
      "source": [
        "history = model.fit(train_loader, validation_data=valid_loader, epochs=100, callbacks=[callback])"
      ],
      "metadata": {
        "colab": {
          "base_uri": "https://localhost:8080/"
        },
        "id": "jpQDGjjCwcBx",
        "outputId": "59a98468-e3b8-4f53-cc4d-7f44ee702c0c"
      },
      "execution_count": null,
      "outputs": [
        {
          "output_type": "stream",
          "name": "stdout",
          "text": [
            "Epoch 1/100\n",
            "278/278 [==============================] - 57s 204ms/step - loss: 1.1966 - accuracy: 0.5531 - val_loss: 1.0606 - val_accuracy: 0.5918\n",
            "Epoch 2/100\n",
            "278/278 [==============================] - 57s 204ms/step - loss: 1.0103 - accuracy: 0.6012 - val_loss: 0.8466 - val_accuracy: 0.6714\n",
            "Epoch 3/100\n",
            "278/278 [==============================] - 57s 206ms/step - loss: 0.8138 - accuracy: 0.6824 - val_loss: 0.6609 - val_accuracy: 0.7422\n",
            "Epoch 4/100\n",
            "278/278 [==============================] - 57s 204ms/step - loss: 0.6786 - accuracy: 0.7484 - val_loss: 0.8192 - val_accuracy: 0.7153\n",
            "Epoch 5/100\n",
            "278/278 [==============================] - 57s 206ms/step - loss: 0.5545 - accuracy: 0.8009 - val_loss: 0.4405 - val_accuracy: 0.8281\n",
            "Epoch 6/100\n",
            "278/278 [==============================] - 57s 206ms/step - loss: 0.4900 - accuracy: 0.8215 - val_loss: 0.4382 - val_accuracy: 0.8451\n",
            "Epoch 7/100\n",
            "278/278 [==============================] - 57s 205ms/step - loss: 0.4405 - accuracy: 0.8475 - val_loss: 0.3773 - val_accuracy: 0.8711\n",
            "Epoch 8/100\n",
            "278/278 [==============================] - 57s 205ms/step - loss: 0.3043 - accuracy: 0.9105 - val_loss: 0.3958 - val_accuracy: 0.8585\n",
            "Epoch 9/100\n",
            "278/278 [==============================] - 57s 205ms/step - loss: 0.2437 - accuracy: 0.9356 - val_loss: 0.2434 - val_accuracy: 0.9391\n",
            "Epoch 10/100\n",
            "278/278 [==============================] - 57s 205ms/step - loss: 0.1848 - accuracy: 0.9501 - val_loss: 0.1049 - val_accuracy: 0.9705\n",
            "Epoch 11/100\n",
            "278/278 [==============================] - 57s 204ms/step - loss: 0.0937 - accuracy: 0.9716 - val_loss: 0.1306 - val_accuracy: 0.9615\n",
            "Epoch 12/100\n",
            "278/278 [==============================] - 57s 204ms/step - loss: 0.1007 - accuracy: 0.9680 - val_loss: 0.0932 - val_accuracy: 0.9678\n",
            "Epoch 13/100\n",
            "278/278 [==============================] - 57s 205ms/step - loss: 0.0961 - accuracy: 0.9701 - val_loss: 0.1426 - val_accuracy: 0.9454\n",
            "Epoch 14/100\n",
            "278/278 [==============================] - 57s 206ms/step - loss: 0.0546 - accuracy: 0.9821 - val_loss: 0.0654 - val_accuracy: 0.9758\n",
            "Epoch 15/100\n",
            "278/278 [==============================] - 57s 205ms/step - loss: 0.0495 - accuracy: 0.9840 - val_loss: 0.0576 - val_accuracy: 0.9839\n",
            "Epoch 16/100\n",
            "278/278 [==============================] - 57s 205ms/step - loss: 0.0533 - accuracy: 0.9840 - val_loss: 0.0394 - val_accuracy: 0.9812\n",
            "Epoch 17/100\n",
            "278/278 [==============================] - 57s 206ms/step - loss: 0.0625 - accuracy: 0.9802 - val_loss: 0.0813 - val_accuracy: 0.9749\n",
            "Epoch 18/100\n",
            "278/278 [==============================] - 57s 206ms/step - loss: 0.0604 - accuracy: 0.9806 - val_loss: 0.0881 - val_accuracy: 0.9722\n"
          ]
        }
      ]
    },
    {
      "cell_type": "markdown",
      "source": [
        "## D. Evaluate the model"
      ],
      "metadata": {
        "id": "SGOF98x14rZS"
      }
    },
    {
      "cell_type": "code",
      "source": [
        "model.evaluate(test_loader)"
      ],
      "metadata": {
        "colab": {
          "base_uri": "https://localhost:8080/"
        },
        "id": "GnkYC49r4tdK",
        "outputId": "1861ee58-4d25-40c5-8fac-0ad95f8aeda0"
      },
      "execution_count": null,
      "outputs": [
        {
          "output_type": "stream",
          "name": "stdout",
          "text": [
            "35/35 [==============================] - 167s 5s/step - loss: 0.1028 - accuracy: 0.9774\n"
          ]
        },
        {
          "output_type": "execute_result",
          "data": {
            "text/plain": [
              "[0.10276728868484497, 0.9773755669593811]"
            ]
          },
          "metadata": {},
          "execution_count": 24
        }
      ]
    },
    {
      "cell_type": "markdown",
      "source": [
        "## E. Save the model"
      ],
      "metadata": {
        "id": "VW-kgNLpa5oM"
      }
    },
    {
      "cell_type": "code",
      "source": [
        "%mkdir 'saved_model'"
      ],
      "metadata": {
        "id": "crzXqI02a4EU"
      },
      "execution_count": null,
      "outputs": []
    },
    {
      "cell_type": "code",
      "source": [
        "model.save('save_model/model.h5')"
      ],
      "metadata": {
        "id": "9-0wBI3FbBsI"
      },
      "execution_count": null,
      "outputs": []
    }
  ]
}